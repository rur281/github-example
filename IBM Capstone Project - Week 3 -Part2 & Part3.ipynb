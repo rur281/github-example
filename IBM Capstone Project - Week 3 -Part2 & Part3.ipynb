{
 "cells": [
  {
   "cell_type": "markdown",
   "metadata": {},
   "source": [
    "### Importing Libraries"
   ]
  },
  {
   "cell_type": "code",
   "execution_count": 1,
   "metadata": {},
   "outputs": [],
   "source": [
    "import numpy as np\n",
    "import os\n",
    "import math\n",
    "import lxml.html as lh\n",
    "from selenium import webdriver\n",
    "from bs4 import BeautifulSoup\n",
    "import pandas as pd\n",
    "import requests\n",
    "\n",
    "#import sys\n",
    "#!{sys.executable} -m pip install BeautifulSoup"
   ]
  },
  {
   "cell_type": "markdown",
   "metadata": {},
   "source": [
    "### Web Scraping"
   ]
  },
  {
   "cell_type": "code",
   "execution_count": 2,
   "metadata": {},
   "outputs": [],
   "source": [
    "URL = 'https://en.wikipedia.org/wiki/List_of_postal_codes_of_Canada:_M'\n",
    "page = requests.get(URL)\n",
    "#Store the contents of the website under doc\n",
    "doc = lh.fromstring(page.content)\n",
    "#Parse data that are stored between <tr>..</tr> of HTML\n",
    "tr_elements = doc.xpath('//tr')"
   ]
  },
  {
   "cell_type": "code",
   "execution_count": 3,
   "metadata": {},
   "outputs": [
    {
     "data": {
      "text/plain": [
       "[3, 3, 3, 3, 3, 3, 3, 3, 3, 3, 3, 3]"
      ]
     },
     "execution_count": 3,
     "metadata": {},
     "output_type": "execute_result"
    }
   ],
   "source": [
    "#Check the length of the first 12 rows\n",
    "[len(T) for T in tr_elements[:12]]"
   ]
  },
  {
   "cell_type": "code",
   "execution_count": 4,
   "metadata": {},
   "outputs": [
    {
     "name": "stdout",
     "output_type": "stream",
     "text": [
      "1: Postal code\n",
      "\n",
      "2: Borough\n",
      "\n",
      "3: Neighborhood\n",
      "\n"
     ]
    }
   ],
   "source": [
    "tr_elements = doc.xpath('//tr')\n",
    "#Create empty list\n",
    "col=[]\n",
    "i=0\n",
    "#For each row, store each first element (header) and an empty list\n",
    "for t in tr_elements[0]:\n",
    "    i+=1\n",
    "    name=t.text_content()\n",
    "    print ('%d: %s'%(i,name))\n",
    "    col.append((name,[]))"
   ]
  },
  {
   "cell_type": "code",
   "execution_count": 5,
   "metadata": {},
   "outputs": [],
   "source": [
    "#Since out first row is the header, data is stored on the second row onwards\n",
    "for j in range(1,len(tr_elements)):\n",
    "    #T is our j'th row\n",
    "    T=tr_elements[j]\n",
    "    \n",
    "    #If row is not of size 10, the //tr data is not from our table \n",
    "    if len(T)!=3:\n",
    "        break\n",
    "    \n",
    "    #i is the index of our column\n",
    "    i=0\n",
    "    \n",
    "    #Iterate through each element of the row\n",
    "    for t in T.iterchildren():\n",
    "        data=t.text_content()\n",
    "        #Check if row is empty\n",
    "        if i>0:\n",
    "        #Convert any numerical value to integers\n",
    "            try:\n",
    "                data=int(data)\n",
    "            except:\n",
    "                pass\n",
    "        #Append the data to the empty list of the i'th column\n",
    "        col[i][1].append(data)\n",
    "        #Increment i for the next column\n",
    "        i+=1"
   ]
  },
  {
   "cell_type": "code",
   "execution_count": 6,
   "metadata": {},
   "outputs": [
    {
     "data": {
      "text/plain": [
       "[181, 181, 181]"
      ]
     },
     "execution_count": 6,
     "metadata": {},
     "output_type": "execute_result"
    }
   ],
   "source": [
    "[len(C) for (title,C) in col]\n"
   ]
  },
  {
   "cell_type": "code",
   "execution_count": 7,
   "metadata": {},
   "outputs": [
    {
     "data": {
      "text/html": [
       "<div>\n",
       "<style scoped>\n",
       "    .dataframe tbody tr th:only-of-type {\n",
       "        vertical-align: middle;\n",
       "    }\n",
       "\n",
       "    .dataframe tbody tr th {\n",
       "        vertical-align: top;\n",
       "    }\n",
       "\n",
       "    .dataframe thead th {\n",
       "        text-align: right;\n",
       "    }\n",
       "</style>\n",
       "<table border=\"1\" class=\"dataframe\">\n",
       "  <thead>\n",
       "    <tr style=\"text-align: right;\">\n",
       "      <th></th>\n",
       "      <th>Postal code</th>\n",
       "      <th>Borough</th>\n",
       "      <th>Neighborhood</th>\n",
       "    </tr>\n",
       "  </thead>\n",
       "  <tbody>\n",
       "    <tr>\n",
       "      <th>0</th>\n",
       "      <td>M1A\\n</td>\n",
       "      <td>Not assigned\\n</td>\n",
       "      <td>\\n</td>\n",
       "    </tr>\n",
       "    <tr>\n",
       "      <th>1</th>\n",
       "      <td>M2A\\n</td>\n",
       "      <td>Not assigned\\n</td>\n",
       "      <td>\\n</td>\n",
       "    </tr>\n",
       "    <tr>\n",
       "      <th>2</th>\n",
       "      <td>M3A\\n</td>\n",
       "      <td>North York\\n</td>\n",
       "      <td>Parkwoods\\n</td>\n",
       "    </tr>\n",
       "    <tr>\n",
       "      <th>3</th>\n",
       "      <td>M4A\\n</td>\n",
       "      <td>North York\\n</td>\n",
       "      <td>Victoria Village\\n</td>\n",
       "    </tr>\n",
       "    <tr>\n",
       "      <th>4</th>\n",
       "      <td>M5A\\n</td>\n",
       "      <td>Downtown Toronto\\n</td>\n",
       "      <td>Regent Park / Harbourfront\\n</td>\n",
       "    </tr>\n",
       "  </tbody>\n",
       "</table>\n",
       "</div>"
      ],
      "text/plain": [
       "  Postal code\\n           Borough\\n                Neighborhood\\n\n",
       "0         M1A\\n      Not assigned\\n                            \\n\n",
       "1         M2A\\n      Not assigned\\n                            \\n\n",
       "2         M3A\\n        North York\\n                   Parkwoods\\n\n",
       "3         M4A\\n        North York\\n            Victoria Village\\n\n",
       "4         M5A\\n  Downtown Toronto\\n  Regent Park / Harbourfront\\n"
      ]
     },
     "execution_count": 7,
     "metadata": {},
     "output_type": "execute_result"
    }
   ],
   "source": [
    "Dict={title:column for (title,column) in col}\n",
    "df=pd.DataFrame(Dict)\n",
    "df.head()"
   ]
  },
  {
   "cell_type": "code",
   "execution_count": 8,
   "metadata": {},
   "outputs": [
    {
     "data": {
      "text/html": [
       "<div>\n",
       "<style scoped>\n",
       "    .dataframe tbody tr th:only-of-type {\n",
       "        vertical-align: middle;\n",
       "    }\n",
       "\n",
       "    .dataframe tbody tr th {\n",
       "        vertical-align: top;\n",
       "    }\n",
       "\n",
       "    .dataframe thead th {\n",
       "        text-align: right;\n",
       "    }\n",
       "</style>\n",
       "<table border=\"1\" class=\"dataframe\">\n",
       "  <thead>\n",
       "    <tr style=\"text-align: right;\">\n",
       "      <th></th>\n",
       "      <th>Postal code</th>\n",
       "      <th>Borough</th>\n",
       "      <th>Neighborhood</th>\n",
       "    </tr>\n",
       "  </thead>\n",
       "  <tbody>\n",
       "    <tr>\n",
       "      <th>0</th>\n",
       "      <td>M1A</td>\n",
       "      <td>Not assigned</td>\n",
       "      <td></td>\n",
       "    </tr>\n",
       "    <tr>\n",
       "      <th>1</th>\n",
       "      <td>M2A</td>\n",
       "      <td>Not assigned</td>\n",
       "      <td></td>\n",
       "    </tr>\n",
       "    <tr>\n",
       "      <th>2</th>\n",
       "      <td>M3A</td>\n",
       "      <td>North York</td>\n",
       "      <td>Parkwoods</td>\n",
       "    </tr>\n",
       "    <tr>\n",
       "      <th>3</th>\n",
       "      <td>M4A</td>\n",
       "      <td>North York</td>\n",
       "      <td>Victoria Village</td>\n",
       "    </tr>\n",
       "    <tr>\n",
       "      <th>4</th>\n",
       "      <td>M5A</td>\n",
       "      <td>Downtown Toronto</td>\n",
       "      <td>Regent Park / Harbourfront</td>\n",
       "    </tr>\n",
       "  </tbody>\n",
       "</table>\n",
       "</div>"
      ],
      "text/plain": [
       "  Postal code\\n         Borough\\n              Neighborhood\\n\n",
       "0           M1A      Not assigned                            \n",
       "1           M2A      Not assigned                            \n",
       "2           M3A        North York                   Parkwoods\n",
       "3           M4A        North York            Victoria Village\n",
       "4           M5A  Downtown Toronto  Regent Park / Harbourfront"
      ]
     },
     "execution_count": 8,
     "metadata": {},
     "output_type": "execute_result"
    }
   ],
   "source": [
    "df = df.replace(r'\\n','', regex=True)\n",
    "df.head()"
   ]
  },
  {
   "cell_type": "markdown",
   "metadata": {},
   "source": [
    "### Removing Not Assigned Boroughs"
   ]
  },
  {
   "cell_type": "code",
   "execution_count": 9,
   "metadata": {},
   "outputs": [
    {
     "data": {
      "text/html": [
       "<div>\n",
       "<style scoped>\n",
       "    .dataframe tbody tr th:only-of-type {\n",
       "        vertical-align: middle;\n",
       "    }\n",
       "\n",
       "    .dataframe tbody tr th {\n",
       "        vertical-align: top;\n",
       "    }\n",
       "\n",
       "    .dataframe thead th {\n",
       "        text-align: right;\n",
       "    }\n",
       "</style>\n",
       "<table border=\"1\" class=\"dataframe\">\n",
       "  <thead>\n",
       "    <tr style=\"text-align: right;\">\n",
       "      <th></th>\n",
       "      <th>PostalCode</th>\n",
       "      <th>Borough</th>\n",
       "      <th>Neighborhood</th>\n",
       "    </tr>\n",
       "  </thead>\n",
       "  <tbody>\n",
       "    <tr>\n",
       "      <th>2</th>\n",
       "      <td>M3A</td>\n",
       "      <td>North York</td>\n",
       "      <td>Parkwoods</td>\n",
       "    </tr>\n",
       "    <tr>\n",
       "      <th>3</th>\n",
       "      <td>M4A</td>\n",
       "      <td>North York</td>\n",
       "      <td>Victoria Village</td>\n",
       "    </tr>\n",
       "    <tr>\n",
       "      <th>4</th>\n",
       "      <td>M5A</td>\n",
       "      <td>Downtown Toronto</td>\n",
       "      <td>Regent Park / Harbourfront</td>\n",
       "    </tr>\n",
       "    <tr>\n",
       "      <th>5</th>\n",
       "      <td>M6A</td>\n",
       "      <td>North York</td>\n",
       "      <td>Lawrence Manor / Lawrence Heights</td>\n",
       "    </tr>\n",
       "    <tr>\n",
       "      <th>6</th>\n",
       "      <td>M7A</td>\n",
       "      <td>Downtown Toronto</td>\n",
       "      <td>Queen's Park / Ontario Provincial Government</td>\n",
       "    </tr>\n",
       "  </tbody>\n",
       "</table>\n",
       "</div>"
      ],
      "text/plain": [
       "  PostalCode           Borough                                  Neighborhood\n",
       "2        M3A        North York                                     Parkwoods\n",
       "3        M4A        North York                              Victoria Village\n",
       "4        M5A  Downtown Toronto                    Regent Park / Harbourfront\n",
       "5        M6A        North York             Lawrence Manor / Lawrence Heights\n",
       "6        M7A  Downtown Toronto  Queen's Park / Ontario Provincial Government"
      ]
     },
     "execution_count": 9,
     "metadata": {},
     "output_type": "execute_result"
    }
   ],
   "source": [
    "df = df.rename(columns = {'Postal code\\n': 'PostalCode', 'Borough\\n':'Borough', 'Neighborhood\\n':'Neighborhood'})\n",
    "df1= df[df['Borough'] != 'Not assigned']\n",
    "df1.head()"
   ]
  },
  {
   "cell_type": "markdown",
   "metadata": {},
   "source": [
    "### Combining neighborhoods using a comma"
   ]
  },
  {
   "cell_type": "code",
   "execution_count": 10,
   "metadata": {},
   "outputs": [
    {
     "data": {
      "text/html": [
       "<div>\n",
       "<style scoped>\n",
       "    .dataframe tbody tr th:only-of-type {\n",
       "        vertical-align: middle;\n",
       "    }\n",
       "\n",
       "    .dataframe tbody tr th {\n",
       "        vertical-align: top;\n",
       "    }\n",
       "\n",
       "    .dataframe thead th {\n",
       "        text-align: right;\n",
       "    }\n",
       "</style>\n",
       "<table border=\"1\" class=\"dataframe\">\n",
       "  <thead>\n",
       "    <tr style=\"text-align: right;\">\n",
       "      <th></th>\n",
       "      <th>PostalCode</th>\n",
       "      <th>Borough</th>\n",
       "      <th>Neighborhood</th>\n",
       "    </tr>\n",
       "  </thead>\n",
       "  <tbody>\n",
       "    <tr>\n",
       "      <th>2</th>\n",
       "      <td>M3A</td>\n",
       "      <td>North York</td>\n",
       "      <td>Parkwoods</td>\n",
       "    </tr>\n",
       "    <tr>\n",
       "      <th>3</th>\n",
       "      <td>M4A</td>\n",
       "      <td>North York</td>\n",
       "      <td>Victoria Village</td>\n",
       "    </tr>\n",
       "    <tr>\n",
       "      <th>4</th>\n",
       "      <td>M5A</td>\n",
       "      <td>Downtown Toronto</td>\n",
       "      <td>Regent Park , Harbourfront</td>\n",
       "    </tr>\n",
       "    <tr>\n",
       "      <th>5</th>\n",
       "      <td>M6A</td>\n",
       "      <td>North York</td>\n",
       "      <td>Lawrence Manor , Lawrence Heights</td>\n",
       "    </tr>\n",
       "    <tr>\n",
       "      <th>6</th>\n",
       "      <td>M7A</td>\n",
       "      <td>Downtown Toronto</td>\n",
       "      <td>Queen's Park , Ontario Provincial Government</td>\n",
       "    </tr>\n",
       "  </tbody>\n",
       "</table>\n",
       "</div>"
      ],
      "text/plain": [
       "  PostalCode           Borough                                  Neighborhood\n",
       "2        M3A        North York                                     Parkwoods\n",
       "3        M4A        North York                              Victoria Village\n",
       "4        M5A  Downtown Toronto                    Regent Park , Harbourfront\n",
       "5        M6A        North York             Lawrence Manor , Lawrence Heights\n",
       "6        M7A  Downtown Toronto  Queen's Park , Ontario Provincial Government"
      ]
     },
     "execution_count": 10,
     "metadata": {},
     "output_type": "execute_result"
    }
   ],
   "source": [
    "df1 = df1.replace(r'/',',', regex=True)\n",
    "df1.head()"
   ]
  },
  {
   "cell_type": "markdown",
   "metadata": {},
   "source": [
    "### Making the Neighborhood same as the Borugh for Not Assigned Neighborhood"
   ]
  },
  {
   "cell_type": "code",
   "execution_count": 11,
   "metadata": {},
   "outputs": [],
   "source": [
    "for i in range(0,df1.shape[0]):\n",
    "    if df1['Neighborhood'].iloc[i] == '':\n",
    "        if df1['Borough'].iloc[i] != 'Not Assigned':\n",
    "            df1['Neighborhood'].iloc[i] = df1['Borough'].iloc[i]"
   ]
  },
  {
   "cell_type": "code",
   "execution_count": 12,
   "metadata": {},
   "outputs": [
    {
     "data": {
      "text/html": [
       "<div>\n",
       "<style scoped>\n",
       "    .dataframe tbody tr th:only-of-type {\n",
       "        vertical-align: middle;\n",
       "    }\n",
       "\n",
       "    .dataframe tbody tr th {\n",
       "        vertical-align: top;\n",
       "    }\n",
       "\n",
       "    .dataframe thead th {\n",
       "        text-align: right;\n",
       "    }\n",
       "</style>\n",
       "<table border=\"1\" class=\"dataframe\">\n",
       "  <thead>\n",
       "    <tr style=\"text-align: right;\">\n",
       "      <th></th>\n",
       "      <th>PostalCode</th>\n",
       "      <th>Borough</th>\n",
       "      <th>Neighborhood</th>\n",
       "    </tr>\n",
       "  </thead>\n",
       "  <tbody>\n",
       "    <tr>\n",
       "      <th>2</th>\n",
       "      <td>M3A</td>\n",
       "      <td>North York</td>\n",
       "      <td>Parkwoods</td>\n",
       "    </tr>\n",
       "    <tr>\n",
       "      <th>3</th>\n",
       "      <td>M4A</td>\n",
       "      <td>North York</td>\n",
       "      <td>Victoria Village</td>\n",
       "    </tr>\n",
       "    <tr>\n",
       "      <th>4</th>\n",
       "      <td>M5A</td>\n",
       "      <td>Downtown Toronto</td>\n",
       "      <td>Regent Park , Harbourfront</td>\n",
       "    </tr>\n",
       "    <tr>\n",
       "      <th>5</th>\n",
       "      <td>M6A</td>\n",
       "      <td>North York</td>\n",
       "      <td>Lawrence Manor , Lawrence Heights</td>\n",
       "    </tr>\n",
       "    <tr>\n",
       "      <th>6</th>\n",
       "      <td>M7A</td>\n",
       "      <td>Downtown Toronto</td>\n",
       "      <td>Queen's Park , Ontario Provincial Government</td>\n",
       "    </tr>\n",
       "  </tbody>\n",
       "</table>\n",
       "</div>"
      ],
      "text/plain": [
       "  PostalCode           Borough                                  Neighborhood\n",
       "2        M3A        North York                                     Parkwoods\n",
       "3        M4A        North York                              Victoria Village\n",
       "4        M5A  Downtown Toronto                    Regent Park , Harbourfront\n",
       "5        M6A        North York             Lawrence Manor , Lawrence Heights\n",
       "6        M7A  Downtown Toronto  Queen's Park , Ontario Provincial Government"
      ]
     },
     "execution_count": 12,
     "metadata": {},
     "output_type": "execute_result"
    }
   ],
   "source": [
    "df1.head()"
   ]
  },
  {
   "cell_type": "markdown",
   "metadata": {},
   "source": [
    "### Printing the Shape of the DataFrame"
   ]
  },
  {
   "cell_type": "code",
   "execution_count": 13,
   "metadata": {},
   "outputs": [
    {
     "data": {
      "text/plain": [
       "(103, 3)"
      ]
     },
     "execution_count": 13,
     "metadata": {},
     "output_type": "execute_result"
    }
   ],
   "source": [
    "df1.shape"
   ]
  },
  {
   "cell_type": "markdown",
   "metadata": {},
   "source": [
    "##### Geocoder Package not working"
   ]
  },
  {
   "cell_type": "markdown",
   "metadata": {},
   "source": [
    "import geocoder\n",
    "#import sys\n",
    "#!{sys.executable} -m pip install geocoder\n",
    "\n",
    "lat_lng_coords = None\n",
    "\n",
    "df1['latitude'] = 2\n",
    "df1['longitude'] = 3\n",
    "\n",
    "for i in range(0,df1.shape[0]):\n",
    "    # loop until you get the coordinates\n",
    "    while(lat_lng_coords is None):\n",
    "      print(i)    \n",
    "      g = geocoder.google('{}'.format(df1['PostalCode'].iloc[i]))\n",
    "      lat_lng_coords = g.latlng\n",
    "    df1['latitude'].iloc[i] = lat_lng_coords[0]\n",
    "    df1['longitude'].iloc[i] = lat_lng_coords[1]\n",
    "df1.head()"
   ]
  },
  {
   "cell_type": "markdown",
   "metadata": {},
   "source": [
    "#### Using a csv file to capture latitude and longitude"
   ]
  },
  {
   "cell_type": "code",
   "execution_count": 29,
   "metadata": {},
   "outputs": [
    {
     "data": {
      "text/html": [
       "<div>\n",
       "<style scoped>\n",
       "    .dataframe tbody tr th:only-of-type {\n",
       "        vertical-align: middle;\n",
       "    }\n",
       "\n",
       "    .dataframe tbody tr th {\n",
       "        vertical-align: top;\n",
       "    }\n",
       "\n",
       "    .dataframe thead th {\n",
       "        text-align: right;\n",
       "    }\n",
       "</style>\n",
       "<table border=\"1\" class=\"dataframe\">\n",
       "  <thead>\n",
       "    <tr style=\"text-align: right;\">\n",
       "      <th></th>\n",
       "      <th>PostalCode</th>\n",
       "      <th>Latitude</th>\n",
       "      <th>Longitude</th>\n",
       "    </tr>\n",
       "  </thead>\n",
       "  <tbody>\n",
       "    <tr>\n",
       "      <th>0</th>\n",
       "      <td>M1B</td>\n",
       "      <td>43.806686</td>\n",
       "      <td>-79.194353</td>\n",
       "    </tr>\n",
       "    <tr>\n",
       "      <th>1</th>\n",
       "      <td>M1C</td>\n",
       "      <td>43.784535</td>\n",
       "      <td>-79.160497</td>\n",
       "    </tr>\n",
       "    <tr>\n",
       "      <th>2</th>\n",
       "      <td>M1E</td>\n",
       "      <td>43.763573</td>\n",
       "      <td>-79.188711</td>\n",
       "    </tr>\n",
       "    <tr>\n",
       "      <th>3</th>\n",
       "      <td>M1G</td>\n",
       "      <td>43.770992</td>\n",
       "      <td>-79.216917</td>\n",
       "    </tr>\n",
       "    <tr>\n",
       "      <th>4</th>\n",
       "      <td>M1H</td>\n",
       "      <td>43.773136</td>\n",
       "      <td>-79.239476</td>\n",
       "    </tr>\n",
       "  </tbody>\n",
       "</table>\n",
       "</div>"
      ],
      "text/plain": [
       "  PostalCode   Latitude  Longitude\n",
       "0        M1B  43.806686 -79.194353\n",
       "1        M1C  43.784535 -79.160497\n",
       "2        M1E  43.763573 -79.188711\n",
       "3        M1G  43.770992 -79.216917\n",
       "4        M1H  43.773136 -79.239476"
      ]
     },
     "execution_count": 29,
     "metadata": {},
     "output_type": "execute_result"
    }
   ],
   "source": [
    "import os\n",
    "os.chdir('C:\\\\Users\\\\ROHIT\\\\Desktop')\n",
    "Data = pd.read_csv(\"Geospatial_Coordinates.csv\")\n",
    "Data = Data.rename(columns={'Postal Code':'PostalCode'})\n",
    "Data.head()\n"
   ]
  },
  {
   "cell_type": "code",
   "execution_count": 38,
   "metadata": {},
   "outputs": [
    {
     "data": {
      "text/html": [
       "<div>\n",
       "<style scoped>\n",
       "    .dataframe tbody tr th:only-of-type {\n",
       "        vertical-align: middle;\n",
       "    }\n",
       "\n",
       "    .dataframe tbody tr th {\n",
       "        vertical-align: top;\n",
       "    }\n",
       "\n",
       "    .dataframe thead th {\n",
       "        text-align: right;\n",
       "    }\n",
       "</style>\n",
       "<table border=\"1\" class=\"dataframe\">\n",
       "  <thead>\n",
       "    <tr style=\"text-align: right;\">\n",
       "      <th></th>\n",
       "      <th>PostalCode</th>\n",
       "      <th>Borough</th>\n",
       "      <th>Neighborhood</th>\n",
       "      <th>latitude</th>\n",
       "      <th>longitude</th>\n",
       "      <th>Latitude</th>\n",
       "      <th>Longitude</th>\n",
       "    </tr>\n",
       "  </thead>\n",
       "  <tbody>\n",
       "    <tr>\n",
       "      <th>0</th>\n",
       "      <td>M3A</td>\n",
       "      <td>North York</td>\n",
       "      <td>Parkwoods</td>\n",
       "      <td>2</td>\n",
       "      <td>3</td>\n",
       "      <td>43.753259</td>\n",
       "      <td>-79.329656</td>\n",
       "    </tr>\n",
       "    <tr>\n",
       "      <th>1</th>\n",
       "      <td>M4A</td>\n",
       "      <td>North York</td>\n",
       "      <td>Victoria Village</td>\n",
       "      <td>2</td>\n",
       "      <td>3</td>\n",
       "      <td>43.725882</td>\n",
       "      <td>-79.315572</td>\n",
       "    </tr>\n",
       "    <tr>\n",
       "      <th>2</th>\n",
       "      <td>M5A</td>\n",
       "      <td>Downtown Toronto</td>\n",
       "      <td>Regent Park , Harbourfront</td>\n",
       "      <td>2</td>\n",
       "      <td>3</td>\n",
       "      <td>43.654260</td>\n",
       "      <td>-79.360636</td>\n",
       "    </tr>\n",
       "    <tr>\n",
       "      <th>3</th>\n",
       "      <td>M6A</td>\n",
       "      <td>North York</td>\n",
       "      <td>Lawrence Manor , Lawrence Heights</td>\n",
       "      <td>2</td>\n",
       "      <td>3</td>\n",
       "      <td>43.718518</td>\n",
       "      <td>-79.464763</td>\n",
       "    </tr>\n",
       "    <tr>\n",
       "      <th>4</th>\n",
       "      <td>M7A</td>\n",
       "      <td>Downtown Toronto</td>\n",
       "      <td>Queen's Park , Ontario Provincial Government</td>\n",
       "      <td>2</td>\n",
       "      <td>3</td>\n",
       "      <td>43.662301</td>\n",
       "      <td>-79.389494</td>\n",
       "    </tr>\n",
       "  </tbody>\n",
       "</table>\n",
       "</div>"
      ],
      "text/plain": [
       "  PostalCode           Borough                                  Neighborhood  \\\n",
       "0        M3A        North York                                     Parkwoods   \n",
       "1        M4A        North York                              Victoria Village   \n",
       "2        M5A  Downtown Toronto                    Regent Park , Harbourfront   \n",
       "3        M6A        North York             Lawrence Manor , Lawrence Heights   \n",
       "4        M7A  Downtown Toronto  Queen's Park , Ontario Provincial Government   \n",
       "\n",
       "   latitude  longitude   Latitude  Longitude  \n",
       "0         2          3  43.753259 -79.329656  \n",
       "1         2          3  43.725882 -79.315572  \n",
       "2         2          3  43.654260 -79.360636  \n",
       "3         2          3  43.718518 -79.464763  \n",
       "4         2          3  43.662301 -79.389494  "
      ]
     },
     "execution_count": 38,
     "metadata": {},
     "output_type": "execute_result"
    }
   ],
   "source": [
    "df2 =pd.merge(df1,Data, on='PostalCode',how='inner')\n",
    "df2.head()"
   ]
  },
  {
   "cell_type": "markdown",
   "metadata": {},
   "source": [
    "# Exploring Toronto Neighborhoods"
   ]
  },
  {
   "cell_type": "code",
   "execution_count": 39,
   "metadata": {},
   "outputs": [
    {
     "name": "stdout",
     "output_type": "stream",
     "text": [
      "Libraries imported.\n"
     ]
    },
    {
     "name": "stderr",
     "output_type": "stream",
     "text": [
      "usage: conda-script.py [-h] [-V] command ...\n",
      "conda-script.py: error: unrecognized arguments: # uncomment this line if you haven't completed the Foursquare API lab\n"
     ]
    }
   ],
   "source": [
    "import numpy as np # library to handle data in a vectorized manner\n",
    "\n",
    "import pandas as pd # library for data analsysis\n",
    "pd.set_option('display.max_columns', None)\n",
    "pd.set_option('display.max_rows', None)\n",
    "\n",
    "import json # library to handle JSON files\n",
    "!conda install -c conda-forge geopy --yes # uncomment this line if you haven't completed the Foursquare API lab\n",
    "from geopy.geocoders import Nominatim # convert an address into latitude and longitude values\n",
    "\n",
    "import requests # library to handle requests\n",
    "from pandas.io.json import json_normalize # tranform JSON file into a pandas dataframe\n",
    "\n",
    "# Matplotlib and associated plotting modules\n",
    "import matplotlib.cm as cm\n",
    "import matplotlib.colors as colors\n",
    "\n",
    "# import k-means from clustering stage\n",
    "from sklearn.cluster import KMeans\n",
    "\n",
    "#!conda install -c conda-forge folium=0.5.0 --yes # uncomment this line if you haven't completed the Foursquare API lab\n",
    "import folium # map rendering library\n",
    "\n",
    "print('Libraries imported.')"
   ]
  },
  {
   "cell_type": "markdown",
   "metadata": {},
   "source": [
    "#### Exploring Dataset"
   ]
  },
  {
   "cell_type": "code",
   "execution_count": 40,
   "metadata": {},
   "outputs": [
    {
     "name": "stdout",
     "output_type": "stream",
     "text": [
      "The dataframe has 10 boroughs and 103 neighborhoods.\n"
     ]
    }
   ],
   "source": [
    "print('The dataframe has {} boroughs and {} neighborhoods.'.format(\n",
    "        len(df2['Borough'].unique()),\n",
    "        df2.shape[0]\n",
    "    )\n",
    ")"
   ]
  },
  {
   "cell_type": "markdown",
   "metadata": {},
   "source": [
    "#### Creating an instance of Toronto Map"
   ]
  },
  {
   "cell_type": "code",
   "execution_count": 41,
   "metadata": {},
   "outputs": [
    {
     "name": "stdout",
     "output_type": "stream",
     "text": [
      "The geograpical coordinate of Toronto are 43.6534817, -79.3839347.\n"
     ]
    }
   ],
   "source": [
    "address = 'Toronto, Canada'\n",
    "\n",
    "geolocator = Nominatim(user_agent=\"ny_explorer\")\n",
    "location = geolocator.geocode(address)\n",
    "latitude = location.latitude\n",
    "longitude = location.longitude\n",
    "print('The geograpical coordinate of Toronto are {}, {}.'.format(latitude, longitude))"
   ]
  },
  {
   "cell_type": "code",
   "execution_count": 42,
   "metadata": {},
   "outputs": [
    {
     "data": {
      "text/html": [
       "<div style=\"width:100%;\"><div style=\"position:relative;width:100%;height:0;padding-bottom:60%;\"><iframe src=\"about:blank\" style=\"position:absolute;width:100%;height:100%;left:0;top:0;border:none !important;\" data-html=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 onload=\"this.contentDocument.open();this.contentDocument.write(atob(this.getAttribute('data-html')));this.contentDocument.close();\" allowfullscreen webkitallowfullscreen mozallowfullscreen></iframe></div></div>"
      ],
      "text/plain": [
       "<folium.folium.Map at 0x160a80c70f0>"
      ]
     },
     "execution_count": 42,
     "metadata": {},
     "output_type": "execute_result"
    }
   ],
   "source": [
    "# create map of Toronto using latitude and longitude values\n",
    "map_toronto = folium.Map(location=[latitude, longitude], zoom_start=10)\n",
    "\n",
    "# add markers to map\n",
    "for lat, lng, borough, neighborhood in zip(df2['Latitude'], df2['Longitude'], df2['Borough'], df2['Neighborhood']):\n",
    "    label = '{}, {}'.format(neighborhood, borough)\n",
    "    label = folium.Popup(label, parse_html=True)\n",
    "    folium.CircleMarker(\n",
    "        [lat, lng],\n",
    "        radius=5,\n",
    "        popup=label,\n",
    "        color='blue',\n",
    "        fill=True,\n",
    "        fill_color='#3186cc',\n",
    "        fill_opacity=0.7,\n",
    "        parse_html=False).add_to(map_toronto)  \n",
    "    \n",
    "map_toronto"
   ]
  },
  {
   "cell_type": "code",
   "execution_count": null,
   "metadata": {},
   "outputs": [],
   "source": []
  }
 ],
 "metadata": {
  "kernelspec": {
   "display_name": "Python 3",
   "language": "python",
   "name": "python3"
  },
  "language_info": {
   "codemirror_mode": {
    "name": "ipython",
    "version": 3
   },
   "file_extension": ".py",
   "mimetype": "text/x-python",
   "name": "python",
   "nbconvert_exporter": "python",
   "pygments_lexer": "ipython3",
   "version": "3.7.3"
  }
 },
 "nbformat": 4,
 "nbformat_minor": 2
}
